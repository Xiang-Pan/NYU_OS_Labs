{
 "cells": [
  {
   "cell_type": "code",
   "execution_count": 3,
   "id": "a63431b0",
   "metadata": {},
   "outputs": [
    {
     "name": "stderr",
     "output_type": "stream",
     "text": [
      "\u001b[1minput_line_12:3:1: \u001b[0m\u001b[0;1;31merror: \u001b[0m\u001b[1muse of undeclared identifier 'tr1'\u001b[0m\n",
      "tr1::regex reg(\"^[0-9a-zA-Z]+$\");\n",
      "\u001b[0;1;32m^\n",
      "\u001b[0m\u001b[1minput_line_12:5:13: \u001b[0m\u001b[0;1;31merror: \u001b[0m\u001b[1muse of undeclared identifier 'tr1'\u001b[0m\n",
      "bool bValid=tr1::regex_match(search_string, reg);\n",
      "\u001b[0;1;32m            ^\n",
      "\u001b[0m\u001b[1minput_line_12:5:45: \u001b[0m\u001b[0;1;31merror: \u001b[0m\u001b[1muse of undeclared identifier 'reg'\u001b[0m\n",
      "bool bValid=tr1::regex_match(search_string, reg);\n",
      "\u001b[0;1;32m                                            ^\n",
      "\u001b[0m"
     ]
    },
    {
     "ename": "Interpreter Error",
     "evalue": "",
     "output_type": "error",
     "traceback": [
      "Interpreter Error: "
     ]
    }
   ],
   "source": [
    "#include <iostream>\n",
    "#include <stdexcept>\n",
    "#include <stdio.h>\n",
    "#include <fstream>\n",
    "#include <sstream>\n",
    "#include <string>\n",
    "#include <istream>\n",
    "#include <vector> \n",
    "#include <regex>\n",
    "using namespace std;\n",
    "\n",
    "\n",
    "\n",
    "tr1::regex reg(\"^[0-9a-zA-Z]+$\");\n",
    "string search_string=\"AsWamplek3fj123\";\n",
    "bool bValid=tr1::regex_match(search_string, reg);\n",
    "\n",
    "std::string pattern{\"^[a-Z][a-Z0-9]+$\"}; \n",
    "std::regex re(pattern);\n",
    "bool ret = std::regex_match(\"111\", re);\n",
    "cout<<ret<<endl;"
   ]
  },
  {
   "cell_type": "code",
   "execution_count": 4,
   "id": "9386634d",
   "metadata": {},
   "outputs": [
    {
     "name": "stderr",
     "output_type": "stream",
     "text": [
      "\u001b[1minput_line_11:2:22: \u001b[0m\u001b[0;1;31merror: \u001b[0m\u001b[1munknown type name 'string'; did you mean 'std::string'?\u001b[0m\n",
      " bool isNumber(const string& str);\n",
      "\u001b[0;1;32m                     ^~~~~~\n",
      "\u001b[0m\u001b[0;32m                     std::string\n",
      "\u001b[0m\u001b[1m/home/xiangpan/.conda/envs/pytorch/bin/../lib/gcc/x86_64-conda-linux-gnu/9.3.0/../../../../x86_64-conda-linux-gnu/include/c++/9.3.0/bits/stringfwd.h:79:33: \u001b[0m\u001b[0;1;30mnote: \u001b[0m'std::string' declared here\u001b[0m\n",
      "  typedef basic_string<char>    string;   \n",
      "\u001b[0;1;32m                                ^\n",
      "\u001b[0m\u001b[1minput_line_11:3:21: \u001b[0m\u001b[0;1;31merror: \u001b[0m\u001b[1munknown type name 'string'; did you mean 'std::string'?\u001b[0m\n",
      "bool isNumber(const string& str)\n",
      "\u001b[0;1;32m                    ^~~~~~\n",
      "\u001b[0m\u001b[0;32m                    std::string\n",
      "\u001b[0m\u001b[1m/home/xiangpan/.conda/envs/pytorch/bin/../lib/gcc/x86_64-conda-linux-gnu/9.3.0/../../../../x86_64-conda-linux-gnu/include/c++/9.3.0/bits/stringfwd.h:79:33: \u001b[0m\u001b[0;1;30mnote: \u001b[0m'std::string' declared here\u001b[0m\n",
      "  typedef basic_string<char>    string;   \n",
      "\u001b[0;1;32m                                ^\n",
      "\u001b[0m\u001b[1minput_line_11:4:1: \u001b[0m\u001b[0;1;31merror: \u001b[0m\u001b[1mfunction definition is not allowed here\u001b[0m\n",
      "{\n",
      "\u001b[0;1;32m^\n",
      "\u001b[0m"
     ]
    },
    {
     "ename": "Interpreter Error",
     "evalue": "",
     "output_type": "error",
     "traceback": [
      "Interpreter Error: "
     ]
    }
   ],
   "source": [
    "bool isNumber(const string& str);\n"
   ]
  },
  {
   "cell_type": "code",
   "execution_count": null,
   "id": "928cc900",
   "metadata": {},
   "outputs": [],
   "source": []
  }
 ],
 "metadata": {
  "kernelspec": {
   "display_name": "C++11",
   "language": "C++11",
   "name": "xcpp11"
  },
  "language_info": {
   "codemirror_mode": "text/x-c++src",
   "file_extension": ".cpp",
   "mimetype": "text/x-c++src",
   "name": "c++",
   "version": "11"
  }
 },
 "nbformat": 4,
 "nbformat_minor": 5
}
